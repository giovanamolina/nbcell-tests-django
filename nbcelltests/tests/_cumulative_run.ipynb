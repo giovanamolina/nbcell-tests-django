{
 "cells": [
  {
   "cell_type": "code",
   "execution_count": 0,
   "metadata": {
    "tests": [
     "print(\"cell 0 test\")"
    ]
   },
   "outputs": [],
   "source": [
    "print(\"cell 0 source\")\n",
    "x = 0"
   ]
  },
  {
   "cell_type": "code",
   "execution_count": 1,
   "metadata": {
    "tests": [
     "print(\"cell 1 test\")\n",
     "%cell"
    ]
   },
   "outputs": [],
   "source": [
    "print(\"cell 1 source\")\n",
    "x = 0"
   ]
  },  
  {
   "cell_type": "code",
   "execution_count": 2,
   "metadata": {
    "tests": [
     "print(\"cell 2 test\")\n",
     "%cell"
    ]
   },
   "outputs": [],
   "source": [
    "print(\"cell 2 source\")\n",
    "x += 1"
   ]
  },  
  {
   "cell_type": "code",
   "execution_count": 3,
   "metadata": {
    "tests": [
     "print(\"cell 3 test\")\n",
     "%cell\n",
     "x += 1"
    ]
   },
   "outputs": [],
   "source": [
    "print(\"cell 3 source\")\n",
    "pass"
   ]
  },
  {
   "cell_type": "code",
   "execution_count": 4,
   "metadata": {
    "tests": [
     "print(\"cell 4 test\")\n",
     "%cell\n",
     "raise TypeError(\"should never get here as the cell source errors\")"
    ]
   },
   "outputs": [],
   "source": [
    "print(\"cell 4 source\")\n",
    "raise ValueError(\"My code does not even run\")"
   ]
  },
  {
   "cell_type": "code",
   "execution_count": 5,
   "metadata": {
    "tests": [
     "print(\"cell 5 test\")\n",
     "try:\n",
     "    %cell\n",
     "except:\n",
     "    pass\n",
     "raise ValueError(\"My test does not even run\")"
    ]
   },
   "outputs": [],
   "source": [
    "print(\"cell 5 source\")\n",
    "ValueError(\"Deliberately not raising\")"
   ]
  },  
  {
   "cell_type": "code",
   "execution_count": 5,
   "metadata": {
    "tests": [
     "# Use %cell to execute the cell\n",
     "%cell\n"
    ]
   },
   "outputs": [],
   "source": [
    "x=4; assert x == 2"
   ]
  }
 ],
 "metadata": {
  "kernelspec": {
   "display_name": "Python 3",
   "language": "python",
   "name": "python3"
  },
  "language_info": {
   "codemirror_mode": {
    "name": "ipython",
    "version": 3
   },
   "file_extension": ".py",
   "mimetype": "text/x-python",
   "name": "python",
   "nbconvert_exporter": "python",
   "pygments_lexer": "ipython3",
   "version": "3.7.6"
  }
 },
 "nbformat": 4,
 "nbformat_minor": 4
}
