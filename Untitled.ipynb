{
 "cells": [
  {
   "cell_type": "code",
   "execution_count": 1,
   "metadata": {
    "tests": [
     "from mock import patch\n",
     "import pandas as pd\n",
     "with patch('cufflinks.datagen.lines') as mock:\n",
     "    mock.return_value = pd.DataFrame([{'1': 1, '2': 2}])\n",
     "    %cell\n"
    ]
   },
   "outputs": [
    {
     "data": {},
     "metadata": {},
     "output_type": "display_data"
    }
   ],
   "source": [
    "import cufflinks as cf\n",
    "df = cf.datagen.lines()"
   ]
  },
  {
   "cell_type": "code",
   "execution_count": 3,
   "metadata": {
    "tests": [
     "%cell\n",
     "assert df.equals(pd.DataFrame([{'1': 1, '2': 2}]))\n"
    ]
   },
   "outputs": [
    {
     "data": {
      "text/html": [
       "<div>\n",
       "<style scoped>\n",
       "    .dataframe tbody tr th:only-of-type {\n",
       "        vertical-align: middle;\n",
       "    }\n",
       "\n",
       "    .dataframe tbody tr th {\n",
       "        vertical-align: top;\n",
       "    }\n",
       "\n",
       "    .dataframe thead th {\n",
       "        text-align: right;\n",
       "    }\n",
       "</style>\n",
       "<table border=\"1\" class=\"dataframe\">\n",
       "  <thead>\n",
       "    <tr style=\"text-align: right;\">\n",
       "      <th></th>\n",
       "      <th>STG.VS</th>\n",
       "      <th>IWX.MU</th>\n",
       "      <th>DYF.MF</th>\n",
       "      <th>OUN.OU</th>\n",
       "      <th>HEK.SN</th>\n",
       "    </tr>\n",
       "  </thead>\n",
       "  <tbody>\n",
       "    <tr>\n",
       "      <th>2015-01-01</th>\n",
       "      <td>2.506957</td>\n",
       "      <td>0.773513</td>\n",
       "      <td>-0.830740</td>\n",
       "      <td>-0.968138</td>\n",
       "      <td>0.075495</td>\n",
       "    </tr>\n",
       "    <tr>\n",
       "      <th>2015-01-02</th>\n",
       "      <td>3.964426</td>\n",
       "      <td>1.782871</td>\n",
       "      <td>-0.794572</td>\n",
       "      <td>-0.317628</td>\n",
       "      <td>0.942482</td>\n",
       "    </tr>\n",
       "    <tr>\n",
       "      <th>2015-01-03</th>\n",
       "      <td>5.324884</td>\n",
       "      <td>2.349412</td>\n",
       "      <td>-2.410570</td>\n",
       "      <td>-1.277554</td>\n",
       "      <td>0.852604</td>\n",
       "    </tr>\n",
       "    <tr>\n",
       "      <th>2015-01-04</th>\n",
       "      <td>5.087623</td>\n",
       "      <td>3.138875</td>\n",
       "      <td>-2.701766</td>\n",
       "      <td>-0.400405</td>\n",
       "      <td>2.617219</td>\n",
       "    </tr>\n",
       "    <tr>\n",
       "      <th>2015-01-05</th>\n",
       "      <td>4.375561</td>\n",
       "      <td>4.570877</td>\n",
       "      <td>-2.159254</td>\n",
       "      <td>-0.854282</td>\n",
       "      <td>1.077191</td>\n",
       "    </tr>\n",
       "  </tbody>\n",
       "</table>\n",
       "</div>"
      ],
      "text/plain": [
       "              STG.VS    IWX.MU    DYF.MF    OUN.OU    HEK.SN\n",
       "2015-01-01  2.506957  0.773513 -0.830740 -0.968138  0.075495\n",
       "2015-01-02  3.964426  1.782871 -0.794572 -0.317628  0.942482\n",
       "2015-01-03  5.324884  2.349412 -2.410570 -1.277554  0.852604\n",
       "2015-01-04  5.087623  3.138875 -2.701766 -0.400405  2.617219\n",
       "2015-01-05  4.375561  4.570877 -2.159254 -0.854282  1.077191"
      ]
     },
     "execution_count": 3,
     "metadata": {},
     "output_type": "execute_result"
    }
   ],
   "source": [
    "df.head()"
   ]
  },
  {
   "cell_type": "code",
   "execution_count": 4,
   "metadata": {},
   "outputs": [],
   "source": [
    "df['date'] = df.index"
   ]
  },
  {
   "cell_type": "code",
   "execution_count": 5,
   "metadata": {
    "tests": [
     "with patch('pandas.DataFrame.head') as mock:\n",
     "    %cell\n"
    ]
   },
   "outputs": [
    {
     "data": {
      "text/html": [
       "<div>\n",
       "<style scoped>\n",
       "    .dataframe tbody tr th:only-of-type {\n",
       "        vertical-align: middle;\n",
       "    }\n",
       "\n",
       "    .dataframe tbody tr th {\n",
       "        vertical-align: top;\n",
       "    }\n",
       "\n",
       "    .dataframe thead th {\n",
       "        text-align: right;\n",
       "    }\n",
       "</style>\n",
       "<table border=\"1\" class=\"dataframe\">\n",
       "  <thead>\n",
       "    <tr style=\"text-align: right;\">\n",
       "      <th></th>\n",
       "      <th>STG.VS</th>\n",
       "      <th>IWX.MU</th>\n",
       "      <th>DYF.MF</th>\n",
       "      <th>OUN.OU</th>\n",
       "      <th>HEK.SN</th>\n",
       "      <th>date</th>\n",
       "    </tr>\n",
       "  </thead>\n",
       "  <tbody>\n",
       "    <tr>\n",
       "      <th>2015-01-01</th>\n",
       "      <td>2.506957</td>\n",
       "      <td>0.773513</td>\n",
       "      <td>-0.830740</td>\n",
       "      <td>-0.968138</td>\n",
       "      <td>0.075495</td>\n",
       "      <td>2015-01-01</td>\n",
       "    </tr>\n",
       "    <tr>\n",
       "      <th>2015-01-02</th>\n",
       "      <td>3.964426</td>\n",
       "      <td>1.782871</td>\n",
       "      <td>-0.794572</td>\n",
       "      <td>-0.317628</td>\n",
       "      <td>0.942482</td>\n",
       "      <td>2015-01-02</td>\n",
       "    </tr>\n",
       "    <tr>\n",
       "      <th>2015-01-03</th>\n",
       "      <td>5.324884</td>\n",
       "      <td>2.349412</td>\n",
       "      <td>-2.410570</td>\n",
       "      <td>-1.277554</td>\n",
       "      <td>0.852604</td>\n",
       "      <td>2015-01-03</td>\n",
       "    </tr>\n",
       "    <tr>\n",
       "      <th>2015-01-04</th>\n",
       "      <td>5.087623</td>\n",
       "      <td>3.138875</td>\n",
       "      <td>-2.701766</td>\n",
       "      <td>-0.400405</td>\n",
       "      <td>2.617219</td>\n",
       "      <td>2015-01-04</td>\n",
       "    </tr>\n",
       "    <tr>\n",
       "      <th>2015-01-05</th>\n",
       "      <td>4.375561</td>\n",
       "      <td>4.570877</td>\n",
       "      <td>-2.159254</td>\n",
       "      <td>-0.854282</td>\n",
       "      <td>1.077191</td>\n",
       "      <td>2015-01-05</td>\n",
       "    </tr>\n",
       "  </tbody>\n",
       "</table>\n",
       "</div>"
      ],
      "text/plain": [
       "              STG.VS    IWX.MU    DYF.MF    OUN.OU    HEK.SN       date\n",
       "2015-01-01  2.506957  0.773513 -0.830740 -0.968138  0.075495 2015-01-01\n",
       "2015-01-02  3.964426  1.782871 -0.794572 -0.317628  0.942482 2015-01-02\n",
       "2015-01-03  5.324884  2.349412 -2.410570 -1.277554  0.852604 2015-01-03\n",
       "2015-01-04  5.087623  3.138875 -2.701766 -0.400405  2.617219 2015-01-04\n",
       "2015-01-05  4.375561  4.570877 -2.159254 -0.854282  1.077191 2015-01-05"
      ]
     },
     "execution_count": 5,
     "metadata": {},
     "output_type": "execute_result"
    }
   ],
   "source": [
    "df.head()"
   ]
  }
 ],
 "metadata": {
  "kernelspec": {
   "display_name": "Python 3",
   "language": "python",
   "name": "python3"
  },
  "language_info": {
   "codemirror_mode": {
    "name": "ipython",
    "version": 3
   },
   "file_extension": ".py",
   "mimetype": "text/x-python",
   "name": "python",
   "nbconvert_exporter": "python",
   "pygments_lexer": "ipython3",
   "version": "3.7.2"
  },
   "celltests": {
    "lines_per_cell": 10,
    "cells_per_notebook": 10,
    "function_definitions": 10,
    "class_definitions": 10,
    "cell_coverage": 50
   }
 },
 "nbformat": 4,
 "nbformat_minor": 2
}
